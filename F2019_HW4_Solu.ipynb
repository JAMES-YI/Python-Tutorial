{
  "nbformat": 4,
  "nbformat_minor": 0,
  "metadata": {
    "colab": {
      "name": "F2019_HW4_Solu.ipynb",
      "provenance": [],
      "include_colab_link": true
    },
    "kernelspec": {
      "name": "python3",
      "display_name": "Python 3"
    }
  },
  "cells": [
    {
      "cell_type": "markdown",
      "metadata": {
        "id": "view-in-github",
        "colab_type": "text"
      },
      "source": [
        "<a href=\"https://colab.research.google.com/github/JAMES-YI/00_Python_Tutorial/blob/master/F2019_HW4_Solu.ipynb\" target=\"_parent\"><img src=\"https://colab.research.google.com/assets/colab-badge.svg\" alt=\"Open In Colab\"/></a>"
      ]
    },
    {
      "cell_type": "markdown",
      "metadata": {
        "id": "8phQ0D3-LRA_",
        "colab_type": "text"
      },
      "source": [
        "# This file will demonstrate solutions to HW4 for ECE 5995: Foundations of Deep Learning\n",
        "Created by JYI, 10/26/2019"
      ]
    },
    {
      "cell_type": "code",
      "metadata": {
        "id": "po4qvOAoLFGQ",
        "colab_type": "code",
        "outputId": "8faa3424-3eb8-40c4-d804-d5f9ac10ab38",
        "colab": {
          "base_uri": "https://localhost:8080/",
          "height": 83
        }
      },
      "source": [
        "# -*- coding: utf-8 -*-\n",
        "\"\"\"\n",
        "Codes from\n",
        "[1] https://www.tensorflow.org/tutorials/keras/classification\n",
        "[2] https://machinelearningmastery.com/understand-the-dynamics-of-learning-rate-on-deep-learning-neural-networks/\n",
        "\n",
        "Modified by JYI, 10/16/2019\n",
        "\"\"\"\n",
        "\n",
        "## Set up computation configurations\n",
        "\n",
        "from __future__ import absolute_import, division, print_function, unicode_literals\n",
        "\n",
        "\n",
        "# Helper libraries\n",
        "import numpy as np\n",
        "from keras.layers import Dense\n",
        "from keras.models import Sequential\n",
        "import matplotlib.pyplot as plt\n",
        "from keras.optimizers import SGD, RMSprop, Adagrad, Adam\n",
        "import keras"
      ],
      "execution_count": 0,
      "outputs": [
        {
          "output_type": "stream",
          "text": [
            "Using TensorFlow backend.\n"
          ],
          "name": "stderr"
        },
        {
          "output_type": "display_data",
          "data": {
            "text/html": [
              "<p style=\"color: red;\">\n",
              "The default version of TensorFlow in Colab will soon switch to TensorFlow 2.x.<br>\n",
              "We recommend you <a href=\"https://www.tensorflow.org/guide/migrate\" target=\"_blank\">upgrade</a> now \n",
              "or ensure your notebook will continue to use TensorFlow 1.x via the <code>%tensorflow_version 1.x</code> magic:\n",
              "<a href=\"https://colab.research.google.com/notebooks/tensorflow_version.ipynb\" target=\"_blank\">more info</a>.</p>\n"
            ],
            "text/plain": [
              "<IPython.core.display.HTML object>"
            ]
          },
          "metadata": {
            "tags": []
          }
        }
      ]
    },
    {
      "cell_type": "code",
      "metadata": {
        "id": "iCCksbPHLvFj",
        "colab_type": "code",
        "outputId": "1c6df8dc-89f5-4e1a-d4d5-d2d82a3cb5e6",
        "colab": {
          "base_uri": "https://localhost:8080/",
          "height": 1000
        }
      },
      "source": [
        "# Load data and data exploration\n",
        "fashion_mnist = keras.datasets.fashion_mnist\n",
        "(train_images, train_labels), (test_images, test_labels) = fashion_mnist.load_data()\n",
        "\n",
        "print(f'Total number of training images: {train_images.shape[0]}\\n')\n",
        "print(f'Shape of each training sample: {train_images.shape[1:2]}\\n')\n",
        "print(f\"Maximal pixel value: {np.max(train_images)}\\n\")\n",
        "print(f\"Minimal pixel value: {np.min(train_images)}\\n\")\n",
        "\n",
        "for c in np.arange(10):\n",
        "  tempimg = train_images[train_labels==c]\n",
        "  plt.figure()\n",
        "  plt.subplot(1,2,1)\n",
        "  plt.imshow(tempimg[0])\n",
        "  plt.title(str(c))\n",
        "  plt.subplot(1,2,2)\n",
        "  plt.imshow(tempimg[1])\n",
        "  plt.title(str(c))\n",
        "  plt.show()\n",
        "  \n",
        "train_images = train_images / 255.0\n",
        "test_images = test_images / 255.0"
      ],
      "execution_count": 0,
      "outputs": [
        {
          "output_type": "stream",
          "text": [
            "Total number of training images: 60000\n",
            "\n",
            "Shape of each training sample: (28,)\n",
            "\n",
            "Maximal pixel value: 255\n",
            "\n",
            "Minimal pixel value: 0\n",
            "\n"
          ],
          "name": "stdout"
        },
        {
          "output_type": "display_data",
          "data": {
            "image/png": "[encoded data removed]",
            "text/plain": [
              "<Figure size 432x288 with 2 Axes>"
            ]
          },
          "metadata": {
            "tags": []
          }
        },
        {
          "output_type": "display_data",
          "data": {
            "image/png": "[encoded data removed]",
            "text/plain": [
              "<Figure size 432x288 with 2 Axes>"
            ]
          },
          "metadata": {
            "tags": []
          }
        },
        {
          "output_type": "display_data",
          "data": {
            "image/png": "[encoded data removed]",
            "text/plain": [
              "<Figure size 432x288 with 2 Axes>"
            ]
          },
          "metadata": {
            "tags": []
          }
        },
        {
          "output_type": "display_data",
          "data": {
            "image/png": "[encoded data removed]",
            "text/plain": [
              "<Figure size 432x288 with 2 Axes>"
            ]
          },
          "metadata": {
            "tags": []
          }
        },
        {
          "output_type": "display_data",
          "data": {
            "image/png": "[encoded data removed]",
            "text/plain": [
              "<Figure size 432x288 with 2 Axes>"
            ]
          },
          "metadata": {
            "tags": []
          }
        },
        {
          "output_type": "display_data",
          "data": {
            "image/png": "[encoded data removed]",
            "text/plain": [
              "<Figure size 432x288 with 2 Axes>"
            ]
          },
          "metadata": {
            "tags": []
          }
        },
        {
          "output_type": "display_data",
          "data": {
            "image/png": "[encoded data removed]",
            "text/plain": [
              "<Figure size 432x288 with 2 Axes>"
            ]
          },
          "metadata": {
            "tags": []
          }
        },
        {
          "output_type": "display_data",
          "data": {
            "image/png": "[encoded data removed]",
            "text/plain": [
              "<Figure size 432x288 with 2 Axes>"
            ]
          },
          "metadata": {
            "tags": []
          }
        },
        {
          "output_type": "display_data",
          "data": {
            "image/png": "[encoded data removed]",
            "text/plain": [
              "<Figure size 432x288 with 2 Axes>"
            ]
          },
          "metadata": {
            "tags": []
          }
        },
        {
          "output_type": "display_data",
          "data": {
            "image/png": "[encoded data removed]",
            "text/plain": [
              "<Figure size 432x288 with 2 Axes>"
            ]
          },
          "metadata": {
            "tags": []
          }
        }
      ]
    },
    {
      "cell_type": "code",
      "metadata": {
        "id": "Eh5Ge1iHNXq_",
        "colab_type": "code",
        "outputId": "9cd43d6a-c19a-4f27-84aa-a0040966b6d1",
        "colab": {
          "base_uri": "https://localhost:8080/",
          "height": 653
        }
      },
      "source": [
        "# 2) evaluate learning performance\n",
        "\n",
        "\n",
        "model = keras.Sequential([\n",
        "    keras.layers.Flatten(input_shape=(28, 28)),\n",
        "    keras.layers.Dense(128, activation='relu'),\n",
        "    keras.layers.Dense(10, activation='softmax')\n",
        "])\n",
        "\n",
        "sgd = SGD(lr=0.01)\n",
        "model.compile(optimizer=sgd,\n",
        "              loss='sparse_categorical_crossentropy',\n",
        "              metrics=['accuracy'])\n",
        "\n",
        "history = model.fit(train_images, train_labels, \n",
        "                    validation_data=(test_images,test_labels),\n",
        "                    batch_size=32, epochs=10, verbose=1)\n",
        "\n",
        "# Plot the training loss and accuracy\n",
        "TrainAcc = history.history['acc']\n",
        "TrainLoss = history.history['loss']\n",
        "TestAcc = history.history['val_acc']\n",
        "TestLoss = history.history['val_loss']\n",
        "\n",
        "plt.figure()\n",
        "plt.subplot(1,2,1)\n",
        "plt.plot(TrainAcc)\n",
        "plt.plot(TestAcc)\n",
        "plt.legend(['Train Acc','Test Acc'])\n",
        "plt.subplot(1,2,2)\n",
        "plt.plot(TrainLoss)\n",
        "plt.plot(TestLoss)\n",
        "plt.legend(['Train Loss','Test Loss'])\n",
        "plt.show()\n",
        "\n"
      ],
      "execution_count": 0,
      "outputs": [
        {
          "output_type": "stream",
          "text": [
            "Train on 60000 samples, validate on 10000 samples\n",
            "Epoch 1/10\n",
            "60000/60000 [==============================] - 5s 85us/step - loss: 0.7365 - acc: 0.7643 - val_loss: 0.5740 - val_acc: 0.8080\n",
            "Epoch 2/10\n",
            "60000/60000 [==============================] - 5s 82us/step - loss: 0.5119 - acc: 0.8267 - val_loss: 0.5069 - val_acc: 0.8253\n",
            "Epoch 3/10\n",
            "60000/60000 [==============================] - 5s 81us/step - loss: 0.4687 - acc: 0.8393 - val_loss: 0.4795 - val_acc: 0.8331\n",
            "Epoch 4/10\n",
            "60000/60000 [==============================] - 6s 96us/step - loss: 0.4455 - acc: 0.8458 - val_loss: 0.4662 - val_acc: 0.8339\n",
            "Epoch 5/10\n",
            "60000/60000 [==============================] - 5s 83us/step - loss: 0.4291 - acc: 0.8512 - val_loss: 0.4607 - val_acc: 0.8354\n",
            "Epoch 6/10\n",
            "60000/60000 [==============================] - 5s 81us/step - loss: 0.4161 - acc: 0.8555 - val_loss: 0.4402 - val_acc: 0.8436\n",
            "Epoch 7/10\n",
            "60000/60000 [==============================] - 5s 81us/step - loss: 0.4046 - acc: 0.8598 - val_loss: 0.4282 - val_acc: 0.8485\n",
            "Epoch 8/10\n",
            "60000/60000 [==============================] - 5s 82us/step - loss: 0.3950 - acc: 0.8623 - val_loss: 0.4356 - val_acc: 0.8475\n",
            "Epoch 9/10\n",
            "60000/60000 [==============================] - 5s 81us/step - loss: 0.3869 - acc: 0.8658 - val_loss: 0.4314 - val_acc: 0.8442\n",
            "Epoch 10/10\n",
            "60000/60000 [==============================] - 5s 81us/step - loss: 0.3795 - acc: 0.8677 - val_loss: 0.4149 - val_acc: 0.8511\n"
          ],
          "name": "stdout"
        },
        {
          "output_type": "display_data",
          "data": {
            "image/png": "[encoded data removed]",
            "text/plain": [
              "<Figure size 432x288 with 2 Axes>"
            ]
          },
          "metadata": {
            "tags": []
          }
        }
      ]
    },
    {
      "cell_type": "code",
      "metadata": {
        "id": "S5U3s4P_Nu5p",
        "colab_type": "code",
        "outputId": "d2be75c7-9056-4be8-95ea-f0753b7aab5e",
        "colab": {
          "base_uri": "https://localhost:8080/",
          "height": 281
        }
      },
      "source": [
        "# 3) what does the deep learning system learn\n",
        "\n",
        "L1Weight = model.layers[1].get_weights()[0]\n",
        "L1Bias = model.layers[1].get_weights()[1]\n",
        "L2Weight = model.layers[2].get_weights()[0]\n",
        "L2Bias = model.layers[2].get_weights()[1]\n",
        "\n",
        "plt.figure()\n",
        "plt.subplot(2,2,1)\n",
        "plt.hist(L1Weight.reshape([-1,]),density=True)\n",
        "plt.title('Layer 1 Weight')\n",
        "plt.subplot(2,2,2)\n",
        "plt.hist(L2Weight.reshape([-1,]),density=True)\n",
        "plt.title('Layer 2 Weight')\n",
        "plt.subplot(2,2,3)\n",
        "plt.hist(L1Bias,density=True)\n",
        "plt.title('Layer 1 Bias')\n",
        "plt.subplot(2,2,4)\n",
        "plt.hist(L2Bias,density=True)\n",
        "plt.title('Layer 2 Bias')\n",
        "plt.show()"
      ],
      "execution_count": 0,
      "outputs": [
        {
          "output_type": "display_data",
          "data": {
            "image/png": "[encoded data removed]",
            "text/plain": [
              "<Figure size 432x288 with 4 Axes>"
            ]
          },
          "metadata": {
            "tags": []
          }
        }
      ]
    },
    {
      "cell_type": "code",
      "metadata": {
        "id": "sQhy7EFfPwCT",
        "colab_type": "code",
        "colab": {}
      },
      "source": [
        "# How the number of epochs affect the performance\n",
        "\n",
        "# 2) evaluate learning performance\n",
        "\n",
        "model = keras.Sequential([\n",
        "    keras.layers.Flatten(input_shape=(28, 28)),\n",
        "    keras.layers.Dense(128, activation='relu'),\n",
        "    keras.layers.Dense(10, activation='softmax')\n",
        "])\n",
        "\n",
        "sgd = SGD(lr=0.01)\n",
        "model.compile(optimizer=sgd,\n",
        "              loss='sparse_categorical_crossentropy',\n",
        "              metrics=['accuracy'])\n",
        "\n",
        "TrLoss = []\n",
        "TeLoss = []\n",
        "TrAcc = []\n",
        "TeAcc = []\n",
        "EPOC = [10,15,20,25,30]\n",
        "\n",
        "history = model.fit(train_images, train_labels, \n",
        "                    validation_data=(test_images,test_labels),\n",
        "                    batch_size=32, epochs=np.max(EPOC), verbose=0)"
      ],
      "execution_count": 0,
      "outputs": []
    },
    {
      "cell_type": "code",
      "metadata": {
        "id": "MFck-pMu3spi",
        "colab_type": "code",
        "outputId": "32652bae-3260-458d-8d7c-6d1f5d0c83b8",
        "colab": {
          "base_uri": "https://localhost:8080/",
          "height": 221
        }
      },
      "source": [
        "IEPOC = np.array(EPOC)-1\n",
        "TrLoss = [Val for Ind,Val in enumerate(history.history['loss']) if Ind in IEPOC]\n",
        "TeLoss = [Val for Ind,Val in enumerate(history.history['val_loss']) if Ind in IEPOC]\n",
        "TrAcc = [Val for Ind,Val in enumerate(history.history['acc']) if Ind in IEPOC]\n",
        "TeAcc = [Val for Ind,Val in enumerate(history.history['val_acc']) if Ind in IEPOC]\n",
        "  \n",
        "\n",
        "print(f\"When the number of epochs are: {EPOC}\\n\")\n",
        "print(f\"the corresponding training loss are: {TrLoss}\\n\")\n",
        "print(f\"the corresponding training loss are: {TeLoss}\\n\")\n",
        "print(f\"the corresponding training accuracy are: {TrAcc}\\n\")\n",
        "print(f\"the corresponding training accuracy are: {TeAcc}\\n\")"
      ],
      "execution_count": 0,
      "outputs": [
        {
          "output_type": "stream",
          "text": [
            "When the number of epochs are: [10, 15, 20, 25, 30]\n",
            "\n",
            "the corresponding training loss are: [0.37504868667523067, 0.3446530987242858, 0.32345272597670555, 0.30558585764368373, 0.2904117071052392]\n",
            "\n",
            "the corresponding training loss are: [0.42063067412376404, 0.39938338389396666, 0.3702130503416061, 0.36546831917762757, 0.35945993233919143]\n",
            "\n",
            "the corresponding training accuracy are: [0.8689833333333333, 0.8789666666666667, 0.8856, 0.89185, 0.8967]\n",
            "\n",
            "the corresponding training accuracy are: [0.8507, 0.8598, 0.8679, 0.867, 0.8722]\n",
            "\n"
          ],
          "name": "stdout"
        }
      ]
    },
    {
      "cell_type": "code",
      "metadata": {
        "id": "snWXeJSAQ2a5",
        "colab_type": "code",
        "outputId": "f0f2ce03-3031-40fb-9b6e-b94a3a58b50b",
        "colab": {
          "base_uri": "https://localhost:8080/",
          "height": 1000
        }
      },
      "source": [
        "# 5) how learning rate affects the performance\n",
        "\n",
        "learning_rate = [0.1,0.01,0.001,0.0001,0.00001]\n",
        "TrLoss = []\n",
        "TeLoss = []\n",
        "TrAcc = []\n",
        "TeACC = []\n",
        "\n",
        "for val in learning_rate:\n",
        "  print(f\"Training with learning rate {val}...\\n\")\n",
        "  model = keras.Sequential([\n",
        "      keras.layers.Flatten(input_shape=(28, 28)),\n",
        "      keras.layers.Dense(128, activation='relu'),\n",
        "      keras.layers.Dense(10, activation='softmax')\n",
        "  ])\n",
        "\n",
        "  sgd = SGD(lr=val)\n",
        "  model.compile(optimizer=sgd,\n",
        "                loss='sparse_categorical_crossentropy',\n",
        "                metrics=['accuracy'])\n",
        "\n",
        "  history = model.fit(train_images, train_labels, \n",
        "                      validation_data=(test_images,test_labels),\n",
        "                      batch_size=32, epochs=10, verbose=1)\n",
        "  \n",
        "  TrLoss.append(history.history['loss'][-1])\n",
        "  TeLoss.append(history.history['val_loss'][-1])\n",
        "  TrAcc.append(history.history['acc'][-1])\n",
        "  TeAcc.append(history.history['val_acc'][-1])\n",
        "  \n",
        "print(f\"When trained learning rate: {learning_rate}\\n\")\n",
        "print(f\"the corresponding train losses are: {TrLoss}\\n\")\n",
        "print(f\"the corresponding test losses are: {TeLoss}\\n\")\n",
        "print(f\"the corresponding train accuracies are: {TrAcc}\\n\")\n",
        "print(f\"the corresponding test accuracies are: {TeAcc}\\n\")\n",
        "  \n"
      ],
      "execution_count": 0,
      "outputs": [
        {
          "output_type": "stream",
          "text": [
            "Training with learning rate 0.1...\n",
            "\n",
            "Train on 60000 samples, validate on 10000 samples\n",
            "Epoch 1/10\n",
            "60000/60000 [==============================] - 5s 91us/step - loss: 0.5444 - acc: 0.8054 - val_loss: 0.4442 - val_acc: 0.8397\n",
            "Epoch 2/10\n",
            "60000/60000 [==============================] - 5s 84us/step - loss: 0.4057 - acc: 0.8533 - val_loss: 0.4503 - val_acc: 0.8379\n",
            "Epoch 3/10\n",
            "60000/60000 [==============================] - 5s 81us/step - loss: 0.3660 - acc: 0.8669 - val_loss: 0.3900 - val_acc: 0.8582\n",
            "Epoch 4/10\n",
            "60000/60000 [==============================] - 5s 83us/step - loss: 0.3441 - acc: 0.8744 - val_loss: 0.3952 - val_acc: 0.8515\n",
            "Epoch 5/10\n",
            "60000/60000 [==============================] - 5s 82us/step - loss: 0.3272 - acc: 0.8805 - val_loss: 0.3775 - val_acc: 0.8663\n",
            "Epoch 6/10\n",
            "60000/60000 [==============================] - 5s 82us/step - loss: 0.3110 - acc: 0.8845 - val_loss: 0.3737 - val_acc: 0.8688\n",
            "Epoch 7/10\n",
            "60000/60000 [==============================] - 5s 82us/step - loss: 0.2995 - acc: 0.8905 - val_loss: 0.4126 - val_acc: 0.8419\n",
            "Epoch 8/10\n",
            "60000/60000 [==============================] - 5s 80us/step - loss: 0.2888 - acc: 0.8937 - val_loss: 0.3630 - val_acc: 0.8678\n",
            "Epoch 9/10\n",
            "60000/60000 [==============================] - 5s 80us/step - loss: 0.2797 - acc: 0.8980 - val_loss: 0.3469 - val_acc: 0.8772\n",
            "Epoch 10/10\n",
            "60000/60000 [==============================] - 5s 82us/step - loss: 0.2714 - acc: 0.8990 - val_loss: 0.3825 - val_acc: 0.8680\n",
            "Training with learning rate 0.01...\n",
            "\n",
            "Train on 60000 samples, validate on 10000 samples\n",
            "Epoch 1/10\n",
            "60000/60000 [==============================] - 5s 88us/step - loss: 0.7305 - acc: 0.7665 - val_loss: 0.5803 - val_acc: 0.7946\n",
            "Epoch 2/10\n",
            "60000/60000 [==============================] - 5s 84us/step - loss: 0.5097 - acc: 0.8267 - val_loss: 0.5015 - val_acc: 0.8268\n",
            "Epoch 3/10\n",
            "60000/60000 [==============================] - 5s 84us/step - loss: 0.4645 - acc: 0.8401 - val_loss: 0.4848 - val_acc: 0.8321\n",
            "Epoch 4/10\n",
            "60000/60000 [==============================] - 5s 83us/step - loss: 0.4419 - acc: 0.8470 - val_loss: 0.4657 - val_acc: 0.8346\n",
            "Epoch 5/10\n",
            "60000/60000 [==============================] - 5s 84us/step - loss: 0.4234 - acc: 0.8530 - val_loss: 0.4455 - val_acc: 0.8434\n",
            "Epoch 6/10\n",
            "60000/60000 [==============================] - 5s 81us/step - loss: 0.4104 - acc: 0.8580 - val_loss: 0.4386 - val_acc: 0.8465\n",
            "Epoch 7/10\n",
            "60000/60000 [==============================] - 5s 84us/step - loss: 0.3983 - acc: 0.8623 - val_loss: 0.4375 - val_acc: 0.8444\n",
            "Epoch 8/10\n",
            "60000/60000 [==============================] - 5s 84us/step - loss: 0.3894 - acc: 0.8653 - val_loss: 0.4231 - val_acc: 0.8511\n",
            "Epoch 9/10\n",
            "60000/60000 [==============================] - 5s 84us/step - loss: 0.3795 - acc: 0.8692 - val_loss: 0.4191 - val_acc: 0.8499\n",
            "Epoch 10/10\n",
            "60000/60000 [==============================] - 5s 83us/step - loss: 0.3730 - acc: 0.8708 - val_loss: 0.4056 - val_acc: 0.8551\n",
            "Training with learning rate 0.001...\n",
            "\n",
            "Train on 60000 samples, validate on 10000 samples\n",
            "Epoch 1/10\n",
            "60000/60000 [==============================] - 5s 90us/step - loss: 1.4455 - acc: 0.5669 - val_loss: 1.0495 - val_acc: 0.6733\n",
            "Epoch 2/10\n",
            "60000/60000 [==============================] - 5s 86us/step - loss: 0.9079 - acc: 0.7128 - val_loss: 0.8343 - val_acc: 0.7251\n",
            "Epoch 3/10\n",
            "60000/60000 [==============================] - 5s 87us/step - loss: 0.7667 - acc: 0.7553 - val_loss: 0.7433 - val_acc: 0.7560\n",
            "Epoch 4/10\n",
            "60000/60000 [==============================] - 5s 87us/step - loss: 0.6952 - acc: 0.7779 - val_loss: 0.6892 - val_acc: 0.7732\n",
            "Epoch 5/10\n",
            "60000/60000 [==============================] - 5s 87us/step - loss: 0.6493 - acc: 0.7924 - val_loss: 0.6529 - val_acc: 0.7841\n",
            "Epoch 6/10\n",
            "60000/60000 [==============================] - 5s 87us/step - loss: 0.6165 - acc: 0.8028 - val_loss: 0.6249 - val_acc: 0.7913\n",
            "Epoch 7/10\n",
            "60000/60000 [==============================] - 5s 87us/step - loss: 0.5913 - acc: 0.8090 - val_loss: 0.6046 - val_acc: 0.7969\n",
            "Epoch 8/10\n",
            "60000/60000 [==============================] - 5s 85us/step - loss: 0.5718 - acc: 0.8150 - val_loss: 0.5858 - val_acc: 0.8056\n",
            "Epoch 9/10\n",
            "60000/60000 [==============================] - 6s 92us/step - loss: 0.5556 - acc: 0.8196 - val_loss: 0.5739 - val_acc: 0.8087\n",
            "Epoch 10/10\n",
            "60000/60000 [==============================] - 5s 89us/step - loss: 0.5422 - acc: 0.8226 - val_loss: 0.5614 - val_acc: 0.8101\n",
            "Training with learning rate 0.0001...\n",
            "\n",
            "Train on 60000 samples, validate on 10000 samples\n",
            "Epoch 1/10\n",
            "60000/60000 [==============================] - 5s 89us/step - loss: 2.1396 - acc: 0.2361 - val_loss: 1.9499 - val_acc: 0.3862\n",
            "Epoch 2/10\n",
            "60000/60000 [==============================] - 5s 84us/step - loss: 1.8114 - acc: 0.4737 - val_loss: 1.7031 - val_acc: 0.5309\n",
            "Epoch 3/10\n",
            "60000/60000 [==============================] - 5s 84us/step - loss: 1.6009 - acc: 0.5704 - val_loss: 1.5258 - val_acc: 0.5884\n",
            "Epoch 4/10\n",
            "60000/60000 [==============================] - 5s 83us/step - loss: 1.4462 - acc: 0.6111 - val_loss: 1.3932 - val_acc: 0.6109\n",
            "Epoch 5/10\n",
            "60000/60000 [==============================] - 5s 84us/step - loss: 1.3293 - acc: 0.6313 - val_loss: 1.2917 - val_acc: 0.6235\n",
            "Epoch 6/10\n",
            "60000/60000 [==============================] - 5s 83us/step - loss: 1.2389 - acc: 0.6456 - val_loss: 1.2126 - val_acc: 0.6379\n",
            "Epoch 7/10\n",
            "60000/60000 [==============================] - 5s 83us/step - loss: 1.1674 - acc: 0.6563 - val_loss: 1.1494 - val_acc: 0.6467\n",
            "Epoch 8/10\n",
            "60000/60000 [==============================] - 5s 82us/step - loss: 1.1097 - acc: 0.6650 - val_loss: 1.0978 - val_acc: 0.6558\n",
            "Epoch 9/10\n",
            "60000/60000 [==============================] - 5s 84us/step - loss: 1.0619 - acc: 0.6728 - val_loss: 1.0543 - val_acc: 0.6635\n",
            "Epoch 10/10\n",
            "60000/60000 [==============================] - 5s 83us/step - loss: 1.0215 - acc: 0.6804 - val_loss: 1.0174 - val_acc: 0.6703\n",
            "Training with learning rate 1e-05...\n",
            "\n",
            "Train on 60000 samples, validate on 10000 samples\n",
            "Epoch 1/10\n",
            "60000/60000 [==============================] - 6s 93us/step - loss: 2.3651 - acc: 0.0898 - val_loss: 2.3351 - val_acc: 0.0998\n",
            "Epoch 2/10\n",
            "60000/60000 [==============================] - 5s 88us/step - loss: 2.3006 - acc: 0.1189 - val_loss: 2.2765 - val_acc: 0.1301\n",
            "Epoch 3/10\n",
            "60000/60000 [==============================] - 5s 88us/step - loss: 2.2462 - acc: 0.1564 - val_loss: 2.2263 - val_acc: 0.1689\n",
            "Epoch 4/10\n",
            "60000/60000 [==============================] - 5s 91us/step - loss: 2.1988 - acc: 0.1932 - val_loss: 2.1820 - val_acc: 0.2050\n",
            "Epoch 5/10\n",
            "60000/60000 [==============================] - 5s 88us/step - loss: 2.1566 - acc: 0.2301 - val_loss: 2.1420 - val_acc: 0.2423\n",
            "Epoch 6/10\n",
            "60000/60000 [==============================] - 5s 88us/step - loss: 2.1180 - acc: 0.2672 - val_loss: 2.1052 - val_acc: 0.2791\n",
            "Epoch 7/10\n",
            "60000/60000 [==============================] - 5s 89us/step - loss: 2.0823 - acc: 0.3092 - val_loss: 2.0709 - val_acc: 0.3227\n",
            "Epoch 8/10\n",
            "60000/60000 [==============================] - 5s 89us/step - loss: 2.0488 - acc: 0.3519 - val_loss: 2.0385 - val_acc: 0.3666\n",
            "Epoch 9/10\n",
            "60000/60000 [==============================] - 5s 88us/step - loss: 2.0170 - acc: 0.3903 - val_loss: 2.0078 - val_acc: 0.3993\n",
            "Epoch 10/10\n",
            "60000/60000 [==============================] - 5s 88us/step - loss: 1.9869 - acc: 0.4231 - val_loss: 1.9785 - val_acc: 0.4269\n",
            "When trained learning rate: [0.1, 0.01, 0.001, 0.0001, 1e-05]\n",
            "\n",
            "the corresponding train losses are: [0.27138269810477894, 0.37300234287579853, 0.5422396129528682, 1.0214559610684713, 1.986864917564392]\n",
            "\n",
            "the corresponding test losses are: [0.3824574599862099, 0.4055867878675461, 0.5613746042728424, 1.017410991668701, 1.9785389827728272]\n",
            "\n",
            "the corresponding train accuracies are: [0.8989833333333334, 0.8707666666666667, 0.8226166666666667, 0.6803666666666667, 0.4231]\n",
            "\n",
            "the corresponding test accuracies are: [0.8507, 0.8598, 0.8679, 0.867, 0.8722, 0.868, 0.8551, 0.8101, 0.6703, 0.4269]\n",
            "\n"
          ],
          "name": "stdout"
        }
      ]
    },
    {
      "cell_type": "code",
      "metadata": {
        "id": "rUQ-JLCk9sRm",
        "colab_type": "code",
        "outputId": "7573452c-de53-4148-aaad-228b117d967d",
        "colab": {
          "base_uri": "https://localhost:8080/",
          "height": 403
        }
      },
      "source": [
        "# 6) how the number of neurons can affec the performance\n",
        "\n",
        "print(f\"16 neurons\\n\\n\")\n",
        "model = keras.Sequential([\n",
        "    keras.layers.Flatten(input_shape=(28, 28)),\n",
        "    keras.layers.Dense(16, activation='relu'),\n",
        "    keras.layers.Dense(10, activation='softmax')\n",
        "])\n",
        "\n",
        "sgd = SGD(lr=0.1)\n",
        "model.compile(optimizer=sgd,\n",
        "              loss='sparse_categorical_crossentropy',\n",
        "              metrics=['accuracy'])\n",
        "\n",
        "history = model.fit(train_images, train_labels, \n",
        "                    validation_data=(test_images,test_labels),\n",
        "                    batch_size=32, epochs=10, verbose=1)"
      ],
      "execution_count": 0,
      "outputs": [
        {
          "output_type": "stream",
          "text": [
            "Train on 60000 samples, validate on 10000 samples\n",
            "Epoch 1/10\n",
            "60000/60000 [==============================] - 4s 59us/step - loss: 9.8502 - acc: 0.3544 - val_loss: 9.8437 - val_acc: 0.3827\n",
            "Epoch 2/10\n",
            "60000/60000 [==============================] - 3s 51us/step - loss: 8.5715 - acc: 0.4557 - val_loss: 6.9993 - val_acc: 0.5439\n",
            "Epoch 3/10\n",
            "60000/60000 [==============================] - 3s 51us/step - loss: 2.0942 - acc: 0.7258 - val_loss: 0.5672 - val_acc: 0.7914\n",
            "Epoch 4/10\n",
            "60000/60000 [==============================] - 3s 50us/step - loss: 0.4812 - acc: 0.8291 - val_loss: 0.4667 - val_acc: 0.8304\n",
            "Epoch 5/10\n",
            "60000/60000 [==============================] - 3s 51us/step - loss: 0.4374 - acc: 0.8430 - val_loss: 0.4420 - val_acc: 0.8409\n",
            "Epoch 6/10\n",
            "60000/60000 [==============================] - 3s 50us/step - loss: 0.4128 - acc: 0.8511 - val_loss: 0.4287 - val_acc: 0.8459\n",
            "Epoch 7/10\n",
            "60000/60000 [==============================] - 3s 51us/step - loss: 0.3987 - acc: 0.8561 - val_loss: 0.4219 - val_acc: 0.8487\n",
            "Epoch 8/10\n",
            "60000/60000 [==============================] - 3s 50us/step - loss: 0.3866 - acc: 0.8604 - val_loss: 0.4177 - val_acc: 0.8475\n",
            "Epoch 9/10\n",
            "60000/60000 [==============================] - 3s 51us/step - loss: 0.3804 - acc: 0.8620 - val_loss: 0.4062 - val_acc: 0.8547\n",
            "Epoch 10/10\n",
            "60000/60000 [==============================] - 3s 51us/step - loss: 0.3716 - acc: 0.8640 - val_loss: 0.4110 - val_acc: 0.8517\n"
          ],
          "name": "stdout"
        }
      ]
    },
    {
      "cell_type": "code",
      "metadata": {
        "id": "AK3kBdzm_OHs",
        "colab_type": "code",
        "outputId": "627ae36b-8a04-4c9b-d699-f7ca0c8fa14b",
        "colab": {
          "base_uri": "https://localhost:8080/",
          "height": 458
        }
      },
      "source": [
        "print(f\"32 neurons\\n\\n\")\n",
        "model = keras.Sequential([\n",
        "    keras.layers.Flatten(input_shape=(28, 28)),\n",
        "    keras.layers.Dense(32, activation='relu'),\n",
        "    keras.layers.Dense(10, activation='softmax')\n",
        "])\n",
        "\n",
        "sgd = SGD(lr=0.1)\n",
        "model.compile(optimizer=sgd,\n",
        "              loss='sparse_categorical_crossentropy',\n",
        "              metrics=['accuracy'])\n",
        "\n",
        "history = model.fit(train_images, train_labels, \n",
        "                    validation_data=(test_images,test_labels),\n",
        "                    batch_size=32, epochs=10, verbose=1)"
      ],
      "execution_count": 0,
      "outputs": [
        {
          "output_type": "stream",
          "text": [
            "32 neurons\n",
            "\n",
            "\n",
            "Train on 60000 samples, validate on 10000 samples\n",
            "Epoch 1/10\n",
            "60000/60000 [==============================] - 4s 63us/step - loss: 0.5725 - acc: 0.7956 - val_loss: 0.4658 - val_acc: 0.8365\n",
            "Epoch 2/10\n",
            "60000/60000 [==============================] - 3s 54us/step - loss: 0.4330 - acc: 0.8452 - val_loss: 0.4395 - val_acc: 0.8432\n",
            "Epoch 3/10\n",
            "60000/60000 [==============================] - 3s 58us/step - loss: 0.3966 - acc: 0.8555 - val_loss: 0.4420 - val_acc: 0.8306\n",
            "Epoch 4/10\n",
            "60000/60000 [==============================] - 3s 55us/step - loss: 0.3736 - acc: 0.8640 - val_loss: 0.4018 - val_acc: 0.8545\n",
            "Epoch 5/10\n",
            "60000/60000 [==============================] - 3s 54us/step - loss: 0.3598 - acc: 0.8677 - val_loss: 0.3896 - val_acc: 0.8591\n",
            "Epoch 6/10\n",
            "60000/60000 [==============================] - 3s 53us/step - loss: 0.3465 - acc: 0.8744 - val_loss: 0.3962 - val_acc: 0.8571\n",
            "Epoch 7/10\n",
            "60000/60000 [==============================] - 3s 53us/step - loss: 0.3381 - acc: 0.8761 - val_loss: 0.3938 - val_acc: 0.8620\n",
            "Epoch 8/10\n",
            "60000/60000 [==============================] - 3s 54us/step - loss: 0.3287 - acc: 0.8787 - val_loss: 0.4016 - val_acc: 0.8493\n",
            "Epoch 9/10\n",
            "60000/60000 [==============================] - 3s 57us/step - loss: 0.3239 - acc: 0.8810 - val_loss: 0.3746 - val_acc: 0.8584\n",
            "Epoch 10/10\n",
            "60000/60000 [==============================] - 3s 55us/step - loss: 0.3166 - acc: 0.8831 - val_loss: 0.3808 - val_acc: 0.8632\n"
          ],
          "name": "stdout"
        }
      ]
    },
    {
      "cell_type": "code",
      "metadata": {
        "id": "6RBPk2V2_q3b",
        "colab_type": "code",
        "outputId": "21d5baad-ebcb-46f3-c329-f129eb56f742",
        "colab": {
          "base_uri": "https://localhost:8080/",
          "height": 458
        }
      },
      "source": [
        "print(f\"64 neurons\\n\\n\")\n",
        "model = keras.Sequential([\n",
        "    keras.layers.Flatten(input_shape=(28, 28)),\n",
        "    keras.layers.Dense(64, activation='relu'),\n",
        "    keras.layers.Dense(10, activation='softmax')\n",
        "])\n",
        "\n",
        "sgd = SGD(lr=0.1)\n",
        "model.compile(optimizer=sgd,\n",
        "              loss='sparse_categorical_crossentropy',\n",
        "              metrics=['accuracy'])\n",
        "\n",
        "history = model.fit(train_images, train_labels, \n",
        "                    validation_data=(test_images,test_labels),\n",
        "                    batch_size=32, epochs=10, verbose=1)"
      ],
      "execution_count": 0,
      "outputs": [
        {
          "output_type": "stream",
          "text": [
            "64 neurons\n",
            "\n",
            "\n",
            "Train on 60000 samples, validate on 10000 samples\n",
            "Epoch 1/10\n",
            "60000/60000 [==============================] - 4s 71us/step - loss: 0.5513 - acc: 0.8032 - val_loss: 0.4806 - val_acc: 0.8253\n",
            "Epoch 2/10\n",
            "60000/60000 [==============================] - 4s 60us/step - loss: 0.4113 - acc: 0.8513 - val_loss: 0.4433 - val_acc: 0.8425\n",
            "Epoch 3/10\n",
            "60000/60000 [==============================] - 4s 62us/step - loss: 0.3753 - acc: 0.8653 - val_loss: 0.4021 - val_acc: 0.8581\n",
            "Epoch 4/10\n",
            "60000/60000 [==============================] - 4s 60us/step - loss: 0.3510 - acc: 0.8720 - val_loss: 0.3862 - val_acc: 0.8630\n",
            "Epoch 5/10\n",
            "60000/60000 [==============================] - 4s 60us/step - loss: 0.3350 - acc: 0.8770 - val_loss: 0.3834 - val_acc: 0.8607\n",
            "Epoch 6/10\n",
            "60000/60000 [==============================] - 4s 62us/step - loss: 0.3215 - acc: 0.8835 - val_loss: 0.3676 - val_acc: 0.8689\n",
            "Epoch 7/10\n",
            "60000/60000 [==============================] - 4s 60us/step - loss: 0.3092 - acc: 0.8870 - val_loss: 0.3688 - val_acc: 0.8610\n",
            "Epoch 8/10\n",
            "60000/60000 [==============================] - 4s 60us/step - loss: 0.3006 - acc: 0.8891 - val_loss: 0.3600 - val_acc: 0.8727\n",
            "Epoch 9/10\n",
            "60000/60000 [==============================] - 4s 62us/step - loss: 0.2910 - acc: 0.8923 - val_loss: 0.3669 - val_acc: 0.8692\n",
            "Epoch 10/10\n",
            "60000/60000 [==============================] - 4s 61us/step - loss: 0.2850 - acc: 0.8956 - val_loss: 0.3657 - val_acc: 0.8705\n"
          ],
          "name": "stdout"
        }
      ]
    },
    {
      "cell_type": "code",
      "metadata": {
        "id": "zWz3sFPM-PTE",
        "colab_type": "code",
        "outputId": "6126ea72-9de6-4b4d-d189-1c5fedc64b56",
        "colab": {
          "base_uri": "https://localhost:8080/",
          "height": 458
        }
      },
      "source": [
        "print(f\"256 neurons\\n\\n\")\n",
        "model = keras.Sequential([\n",
        "    keras.layers.Flatten(input_shape=(28, 28)),\n",
        "    keras.layers.Dense(256, activation='relu'),\n",
        "    keras.layers.Dense(10, activation='softmax')\n",
        "])\n",
        "\n",
        "sgd = SGD(lr=0.01)\n",
        "model.compile(optimizer=sgd,\n",
        "              loss='sparse_categorical_crossentropy',\n",
        "              metrics=['accuracy'])\n",
        "\n",
        "history = model.fit(train_images, train_labels, \n",
        "                    validation_data=(test_images,test_labels),\n",
        "                    batch_size=32, epochs=10, verbose=1)"
      ],
      "execution_count": 0,
      "outputs": [
        {
          "output_type": "stream",
          "text": [
            "256 neurons\n",
            "\n",
            "\n",
            "Train on 60000 samples, validate on 10000 samples\n",
            "Epoch 1/10\n",
            "60000/60000 [==============================] - 8s 132us/step - loss: 0.7238 - acc: 0.7636 - val_loss: 0.5647 - val_acc: 0.8060\n",
            "Epoch 2/10\n",
            "60000/60000 [==============================] - 7s 118us/step - loss: 0.5097 - acc: 0.8266 - val_loss: 0.5048 - val_acc: 0.8266\n",
            "Epoch 3/10\n",
            "60000/60000 [==============================] - 7s 117us/step - loss: 0.4663 - acc: 0.8403 - val_loss: 0.4887 - val_acc: 0.8272\n",
            "Epoch 4/10\n",
            "60000/60000 [==============================] - 7s 118us/step - loss: 0.4413 - acc: 0.8478 - val_loss: 0.4569 - val_acc: 0.8390\n",
            "Epoch 5/10\n",
            "60000/60000 [==============================] - 7s 119us/step - loss: 0.4241 - acc: 0.8540 - val_loss: 0.4512 - val_acc: 0.8400\n",
            "Epoch 6/10\n",
            "60000/60000 [==============================] - 7s 118us/step - loss: 0.4107 - acc: 0.8586 - val_loss: 0.4372 - val_acc: 0.8432\n",
            "Epoch 7/10\n",
            "60000/60000 [==============================] - 7s 116us/step - loss: 0.3995 - acc: 0.8616 - val_loss: 0.4229 - val_acc: 0.8506\n",
            "Epoch 8/10\n",
            "60000/60000 [==============================] - 7s 119us/step - loss: 0.3903 - acc: 0.8639 - val_loss: 0.4279 - val_acc: 0.8476\n",
            "Epoch 9/10\n",
            "60000/60000 [==============================] - 7s 118us/step - loss: 0.3824 - acc: 0.8675 - val_loss: 0.4117 - val_acc: 0.8550\n",
            "Epoch 10/10\n",
            "60000/60000 [==============================] - 7s 117us/step - loss: 0.3743 - acc: 0.8692 - val_loss: 0.4044 - val_acc: 0.8572\n"
          ],
          "name": "stdout"
        }
      ]
    },
    {
      "cell_type": "code",
      "metadata": {
        "id": "_FWCCHJbAz2b",
        "colab_type": "code",
        "outputId": "5d86e95e-abb5-4c21-aac8-89bcd193dfa9",
        "colab": {
          "base_uri": "https://localhost:8080/",
          "height": 439
        }
      },
      "source": [
        "print(f\"Add one extra layer\\n\")\n",
        "model = keras.Sequential([\n",
        "    keras.layers.Flatten(input_shape=(28, 28)),\n",
        "    keras.layers.Dense(128, activation='relu'),\n",
        "    keras.layers.Dense(128, activation='relu'),\n",
        "    keras.layers.Dense(10, activation='softmax')\n",
        "])\n",
        "\n",
        "sgd = SGD(lr=0.01)\n",
        "model.compile(optimizer=sgd,\n",
        "              loss='sparse_categorical_crossentropy',\n",
        "              metrics=['accuracy'])\n",
        "\n",
        "history = model.fit(train_images, train_labels, \n",
        "                    validation_data=(test_images,test_labels),\n",
        "                    batch_size=32, epochs=10, verbose=1)"
      ],
      "execution_count": 0,
      "outputs": [
        {
          "output_type": "stream",
          "text": [
            "Add one extra layer\n",
            "\n",
            "Train on 60000 samples, validate on 10000 samples\n",
            "Epoch 1/10\n",
            "60000/60000 [==============================] - 7s 113us/step - loss: 0.7596 - acc: 0.7479 - val_loss: 0.5457 - val_acc: 0.8122\n",
            "Epoch 2/10\n",
            "60000/60000 [==============================] - 6s 106us/step - loss: 0.4993 - acc: 0.8251 - val_loss: 0.4852 - val_acc: 0.8287\n",
            "Epoch 3/10\n",
            "60000/60000 [==============================] - 7s 110us/step - loss: 0.4548 - acc: 0.8398 - val_loss: 0.4841 - val_acc: 0.8291\n",
            "Epoch 4/10\n",
            "60000/60000 [==============================] - 7s 109us/step - loss: 0.4295 - acc: 0.8484 - val_loss: 0.4647 - val_acc: 0.8362\n",
            "Epoch 5/10\n",
            "60000/60000 [==============================] - 6s 107us/step - loss: 0.4082 - acc: 0.8575 - val_loss: 0.4270 - val_acc: 0.8475\n",
            "Epoch 6/10\n",
            "60000/60000 [==============================] - 6s 106us/step - loss: 0.3920 - acc: 0.8613 - val_loss: 0.4121 - val_acc: 0.8513\n",
            "Epoch 7/10\n",
            "60000/60000 [==============================] - 6s 107us/step - loss: 0.3785 - acc: 0.8659 - val_loss: 0.4107 - val_acc: 0.8573\n",
            "Epoch 8/10\n",
            "60000/60000 [==============================] - 6s 96us/step - loss: 0.3682 - acc: 0.8690 - val_loss: 0.4116 - val_acc: 0.8539\n",
            "Epoch 9/10\n",
            "60000/60000 [==============================] - 6s 94us/step - loss: 0.3579 - acc: 0.8722 - val_loss: 0.3997 - val_acc: 0.8577\n",
            "Epoch 10/10\n",
            "60000/60000 [==============================] - 6s 94us/step - loss: 0.3482 - acc: 0.8755 - val_loss: 0.3927 - val_acc: 0.8616\n"
          ],
          "name": "stdout"
        }
      ]
    },
    {
      "cell_type": "code",
      "metadata": {
        "id": "gb8H1gnWBrr8",
        "colab_type": "code",
        "outputId": "670cec53-3f71-4343-d8c0-bf64f9fc71ae",
        "colab": {
          "base_uri": "https://localhost:8080/",
          "height": 439
        }
      },
      "source": [
        "print(f\"Add two extra layer\\n\")\n",
        "model = keras.Sequential([\n",
        "    keras.layers.Flatten(input_shape=(28, 28)),\n",
        "    keras.layers.Dense(128, activation='relu'),\n",
        "    keras.layers.Dense(128, activation='relu'),\n",
        "    keras.layers.Dense(128, activation='relu'),\n",
        "    keras.layers.Dense(10, activation='softmax')\n",
        "])\n",
        "\n",
        "sgd = SGD(lr=0.01)\n",
        "model.compile(optimizer=sgd,\n",
        "              loss='sparse_categorical_crossentropy',\n",
        "              metrics=['accuracy'])\n",
        "\n",
        "history = model.fit(train_images, train_labels, \n",
        "                    validation_data=(test_images,test_labels),\n",
        "                    batch_size=32, epochs=10, verbose=1)"
      ],
      "execution_count": 0,
      "outputs": [
        {
          "output_type": "stream",
          "text": [
            "Add two extra layer\n",
            "\n",
            "Train on 60000 samples, validate on 10000 samples\n",
            "Epoch 1/10\n",
            "60000/60000 [==============================] - 7s 112us/step - loss: 0.7933 - acc: 0.7263 - val_loss: 0.5634 - val_acc: 0.7923\n",
            "Epoch 2/10\n",
            "60000/60000 [==============================] - 7s 111us/step - loss: 0.5086 - acc: 0.8199 - val_loss: 0.4977 - val_acc: 0.8266\n",
            "Epoch 3/10\n",
            "60000/60000 [==============================] - 7s 111us/step - loss: 0.4594 - acc: 0.8369 - val_loss: 0.4801 - val_acc: 0.8310\n",
            "Epoch 4/10\n",
            "60000/60000 [==============================] - 7s 109us/step - loss: 0.4289 - acc: 0.8473 - val_loss: 0.4479 - val_acc: 0.8366\n",
            "Epoch 5/10\n",
            "60000/60000 [==============================] - 7s 111us/step - loss: 0.4061 - acc: 0.8545 - val_loss: 0.4302 - val_acc: 0.8452\n",
            "Epoch 6/10\n",
            "60000/60000 [==============================] - 7s 118us/step - loss: 0.3898 - acc: 0.8598 - val_loss: 0.4240 - val_acc: 0.8436\n",
            "Epoch 7/10\n",
            "60000/60000 [==============================] - 6s 103us/step - loss: 0.3766 - acc: 0.8641 - val_loss: 0.4035 - val_acc: 0.8570\n",
            "Epoch 8/10\n",
            "60000/60000 [==============================] - 6s 107us/step - loss: 0.3639 - acc: 0.8666 - val_loss: 0.3935 - val_acc: 0.8575\n",
            "Epoch 9/10\n",
            "60000/60000 [==============================] - 6s 108us/step - loss: 0.3518 - acc: 0.8722 - val_loss: 0.3869 - val_acc: 0.8580\n",
            "Epoch 10/10\n",
            "60000/60000 [==============================] - 7s 109us/step - loss: 0.3444 - acc: 0.8744 - val_loss: 0.3815 - val_acc: 0.8635\n"
          ],
          "name": "stdout"
        }
      ]
    },
    {
      "cell_type": "code",
      "metadata": {
        "id": "7OiV1lbaCBy8",
        "colab_type": "code",
        "outputId": "8d629ad7-6657-4684-c192-b5d351946baa",
        "colab": {
          "base_uri": "https://localhost:8080/",
          "height": 439
        }
      },
      "source": [
        "print(f\"Add three extra layer\\n\")\n",
        "model = keras.Sequential([\n",
        "    keras.layers.Flatten(input_shape=(28, 28)),\n",
        "    keras.layers.Dense(128, activation='relu'),\n",
        "    keras.layers.Dense(128, activation='relu'),\n",
        "    keras.layers.Dense(128, activation='relu'),\n",
        "    keras.layers.Dense(128, activation='relu'),\n",
        "    keras.layers.Dense(10, activation='softmax')\n",
        "])\n",
        "\n",
        "sgd = SGD(lr=0.01)\n",
        "model.compile(optimizer=sgd,\n",
        "              loss='sparse_categorical_crossentropy',\n",
        "              metrics=['accuracy'])\n",
        "\n",
        "history = model.fit(train_images, train_labels, \n",
        "                    validation_data=(test_images,test_labels),\n",
        "                    batch_size=32, epochs=10, verbose=1)"
      ],
      "execution_count": 0,
      "outputs": [
        {
          "output_type": "stream",
          "text": [
            "Add three extra layer\n",
            "\n",
            "Train on 60000 samples, validate on 10000 samples\n",
            "Epoch 1/10\n",
            "60000/60000 [==============================] - 8s 127us/step - loss: 0.7808 - acc: 0.7245 - val_loss: 0.6188 - val_acc: 0.7543\n",
            "Epoch 2/10\n",
            "60000/60000 [==============================] - 6s 105us/step - loss: 0.4985 - acc: 0.8221 - val_loss: 0.4937 - val_acc: 0.8234\n",
            "Epoch 3/10\n",
            "60000/60000 [==============================] - 6s 105us/step - loss: 0.4430 - acc: 0.8425 - val_loss: 0.4424 - val_acc: 0.8443\n",
            "Epoch 4/10\n",
            "60000/60000 [==============================] - 6s 106us/step - loss: 0.4117 - acc: 0.8531 - val_loss: 0.4236 - val_acc: 0.8509\n",
            "Epoch 5/10\n",
            "60000/60000 [==============================] - 6s 105us/step - loss: 0.3905 - acc: 0.8589 - val_loss: 0.4227 - val_acc: 0.8460\n",
            "Epoch 6/10\n",
            "60000/60000 [==============================] - 6s 105us/step - loss: 0.3721 - acc: 0.8653 - val_loss: 0.4072 - val_acc: 0.8523\n",
            "Epoch 7/10\n",
            "60000/60000 [==============================] - 6s 105us/step - loss: 0.3599 - acc: 0.8714 - val_loss: 0.3833 - val_acc: 0.8626\n",
            "Epoch 8/10\n",
            "60000/60000 [==============================] - 6s 106us/step - loss: 0.3482 - acc: 0.8743 - val_loss: 0.4078 - val_acc: 0.8502\n",
            "Epoch 9/10\n",
            "60000/60000 [==============================] - 6s 105us/step - loss: 0.3383 - acc: 0.8760 - val_loss: 0.3796 - val_acc: 0.8623\n",
            "Epoch 10/10\n",
            "60000/60000 [==============================] - 6s 107us/step - loss: 0.3304 - acc: 0.8799 - val_loss: 0.4021 - val_acc: 0.8561\n"
          ],
          "name": "stdout"
        }
      ]
    }
  ]
}