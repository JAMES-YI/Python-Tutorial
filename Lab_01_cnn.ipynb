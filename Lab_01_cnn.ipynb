{
  "nbformat": 4,
  "nbformat_minor": 0,
  "metadata": {
    "accelerator": "GPU",
    "colab": {
      "name": "Lab_01_cnn.ipynb",
      "provenance": [],
      "private_outputs": true,
      "collapsed_sections": [],
      "include_colab_link": true
    },
    "kernelspec": {
      "display_name": "Python 3",
      "name": "python3"
    }
  },
  "cells": [
    {
      "cell_type": "markdown",
      "metadata": {
        "id": "view-in-github",
        "colab_type": "text"
      },
      "source": [
        "<a href=\"https://colab.research.google.com/github/JAMES-YI/00_Python_Tutorial/blob/master/Lab_01_cnn.ipynb\" target=\"_parent\"><img src=\"https://colab.research.google.com/assets/colab-badge.svg\" alt=\"Open In Colab\"/></a>"
      ]
    },
    {
      "cell_type": "markdown",
      "metadata": {
        "colab_type": "text",
        "id": "x4HI2mpwlrcn"
      },
      "source": [
        "# Lab_01 of ECE 5995: Foundations of Deep Learning\n",
        "This file is to demonstrate basic ideas of convolutional neural networks, and the following techniques are covered:\n",
        "\n",
        "(1) Construct a CNN\n",
        "\n",
        "(2) Train a CNN\n",
        "\n",
        "(3) Evaluation of a trained CNN\n",
        "\n",
        "(4) Visualization of CNN kernels\n",
        "\n",
        "(5) Visualization of learned representations after each layer\n",
        "\n",
        "\n",
        "Code from: https://www.tensorflow.org/tutorials/images/cnn\n",
        "\n",
        "Modified by JYI, 10/28/2019\n"
      ]
    },
    {
      "cell_type": "code",
      "metadata": {
        "colab_type": "code",
        "id": "iAve6DCL4JH4",
        "colab": {}
      },
      "source": [
        "from __future__ import absolute_import, division, print_function, unicode_literals\n",
        "\n",
        "from keras import datasets, layers, models, optimizers\n",
        "import matplotlib.pyplot as plt\n",
        "import os\n",
        "import tensorflow as tf\n",
        "os.environ['TF_CPP_MIN_LOG_LEVEL'] = '3'\n"
      ],
      "execution_count": 0,
      "outputs": []
    },
    {
      "cell_type": "code",
      "metadata": {
        "colab_type": "code",
        "id": "JWoEqyMuXFF4",
        "colab": {}
      },
      "source": [
        "# Load data\n",
        "(train_images, train_labels), (test_images, test_labels) = datasets.mnist.load_data()\n",
        "\n",
        "# Normalize pixel values to be between 0 and 1\n",
        "train_images, test_images = train_images / 255.0, test_images / 255.0\n",
        "\n",
        "class_names = ['0', '1', '2', '3', '4',\n",
        "               '5', '6', '7', '8', '9']\n",
        "\n",
        "plt.figure(figsize=(10,10))\n",
        "for i in range(25):\n",
        "    plt.subplot(5,5,i+1)\n",
        "    plt.xticks([])\n",
        "    plt.yticks([])\n",
        "    plt.grid(False)\n",
        "    plt.imshow(train_images[i], cmap=plt.cm.binary)\n",
        "    # The CIFAR labels happen to be arrays, \n",
        "    # which is why you need the extra index\n",
        "    plt.xlabel(class_names[train_labels[i]])\n",
        "plt.show()"
      ],
      "execution_count": 0,
      "outputs": []
    },
    {
      "cell_type": "code",
      "metadata": {
        "colab_type": "code",
        "id": "L9YmGQBQPrdn",
        "colab": {}
      },
      "source": [
        "# CNN with 3 convolutional layers and 2 fully connected layers\n",
        "\n",
        "KN1 = 16\n",
        "KN2 = 16\n",
        "KN3 = 16\n",
        "\n",
        "model = models.Sequential()\n",
        "model.add(layers.Conv2D(16, (3, 3), strides=(1, 1), activation='relu', input_shape=(28, 28, 1)))\n",
        "model.add(layers.MaxPooling2D((2, 2)))\n",
        "\n",
        "model.add(layers.Conv2D(16, (3, 3), strides=(1, 1), activation='relu'))\n",
        "model.add(layers.MaxPooling2D((2, 2)))\n",
        "\n",
        "model.add(layers.Conv2D(16, (3, 3), strides=(1, 1), activation='relu'))\n",
        "\n",
        "model.add(layers.Flatten())\n",
        "\n",
        "model.add(layers.Dense(64, activation='relu'))\n",
        "model.add(layers.Dense(10, activation='softmax'))\n",
        "\n",
        "model.summary()"
      ],
      "execution_count": 0,
      "outputs": []
    },
    {
      "cell_type": "code",
      "metadata": {
        "colab_type": "code",
        "id": "MdDzI75PUXrG",
        "colab": {}
      },
      "source": [
        "# CNN training\n",
        "\n",
        "sgd = optimizers.SGD(lr=0.01)\n",
        "model.compile(optimizer=sgd,\n",
        "              loss='sparse_categorical_crossentropy',\n",
        "              metrics=['accuracy'])\n",
        "\n",
        "history = model.fit(train_images.reshape([-1,28,28,1]), train_labels, epochs=5, \n",
        "                    validation_data=(test_images.reshape([-1,28,28,1]), test_labels))"
      ],
      "execution_count": 0,
      "outputs": []
    },
    {
      "cell_type": "code",
      "metadata": {
        "colab_type": "code",
        "id": "gtyDF0MKUcM7",
        "colab": {}
      },
      "source": [
        "# Performance evaluation\n",
        "\n",
        "plt.plot(history.history['loss'], label='loss')\n",
        "plt.plot(history.history['val_loss'], label = 'val_loss')\n",
        "plt.xlabel('Epoch')\n",
        "plt.ylabel('Acc')\n",
        "plt.legend(loc='lower right')\n",
        "\n",
        "test_loss, test_acc = model.evaluate(test_images.reshape([-1,28,28,1]),  test_labels, verbose=2)\n",
        "print(f\"Test loss: {test_loss}, Test accuracy: {test_acc}\")"
      ],
      "execution_count": 0,
      "outputs": []
    },
    {
      "cell_type": "code",
      "metadata": {
        "colab_type": "code",
        "id": "0LvwaKhtUdOo",
        "colab": {}
      },
      "source": [
        "# What CNN learned: weight patterns\n",
        "import numpy as np\n",
        "\n",
        "Conv1W = model.layers[2].get_weights()[0]\n",
        "plt.figure(figsize=(12,12))\n",
        "for i in np.arange(KN1):\n",
        "  plt.subplot(4,int(KN1/4),i+1)\n",
        "  plt.imshow(Conv1W[:,:,0,i])\n",
        "  plt.title('Kernel' + str(i+1))\n",
        "  plt.colorbar()\n",
        "\n",
        "plt.subplots_adjust(top = 0.99, bottom=0.01, hspace=1.5, wspace=0.4)\n",
        "plt.show()\n"
      ],
      "execution_count": 0,
      "outputs": []
    },
    {
      "cell_type": "code",
      "metadata": {
        "id": "aKJ7yyFuZ-7L",
        "colab_type": "code",
        "colab": {}
      },
      "source": [
        "# What CNN learned: new representation after each layer\n",
        "from keras import backend as K\n",
        "import numpy as np\n",
        "\n",
        "IP = model.input\n",
        "OPs = [layer.output for layer in model.layers]  \n",
        "funcs = [K.function([IP, K.learning_phase()], [out]) for out in OPs]\n",
        "\n",
        "# Random input and corresponding output after each layer\n",
        "IPVal1 = np.random.random([1,28,28,1])\n",
        "OPVal1 = [func([IPVal1, 1.]) for func in funcs]\n",
        "\n",
        "# Natural input and corresponding output after each layer \n",
        "IPVal2 = train_images[0].reshape([1,28,28,1])\n",
        "OPVal2 = [func([IPVal2, 1.]) for func in funcs]"
      ],
      "execution_count": 0,
      "outputs": []
    },
    {
      "cell_type": "code",
      "metadata": {
        "id": "AUHUVPd0ez8g",
        "colab_type": "code",
        "colab": {}
      },
      "source": [
        "plt.figure()\n",
        "plt.subplot(1,2,1)\n",
        "plt.imshow(IPVal2.reshape([28,28]))\n",
        "plt.title('Natural:' + str(train_labels[0]))\n",
        "plt.subplot(1,2,2)\n",
        "plt.imshow(IPVal1.reshape([28,28]))\n",
        "plt.title('Random')\n",
        "plt.show()"
      ],
      "execution_count": 0,
      "outputs": []
    },
    {
      "cell_type": "code",
      "metadata": {
        "id": "S1MOyNtCq-uR",
        "colab_type": "code",
        "colab": {}
      },
      "source": [
        "# What CNN learned: new representation after each layer (II)\n",
        "Conv1OP1 = OPVal1[0][0] # rand\n",
        "Conv1OP2 = OPVal2[0][0] # nat\n",
        "\n",
        "plt.figure(figsize=(12,12))\n",
        "for i in np.arange(KN1):\n",
        "  plt.subplot(4,int(KN1/4),i+1)\n",
        "  plt.imshow(Conv1OP1[0,:,:,i])\n",
        "  plt.title('Rand: c ' + str(i+1))\n",
        "  plt.colorbar()\n",
        "\n",
        "plt.subplots_adjust(top = 0.99, bottom=0.01, hspace=0.5, wspace=0.4)\n",
        "plt.show()\n",
        "\n",
        "plt.figure(figsize=(12,12))\n",
        "for i in np.arange(KN1):\n",
        "  plt.subplot(4,int(KN1/4),i+1)\n",
        "  plt.imshow(Conv1OP2[0,:,:,i])\n",
        "  plt.title('Natl: c ' + str(i))\n",
        "  plt.colorbar()\n",
        "\n",
        "plt.subplots_adjust(top = 0.99, bottom=0.01, hspace=0.5, wspace=0.4)\n",
        "plt.show()"
      ],
      "execution_count": 0,
      "outputs": []
    }
  ]
}