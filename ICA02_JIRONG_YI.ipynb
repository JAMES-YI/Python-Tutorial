{
  "nbformat": 4,
  "nbformat_minor": 0,
  "metadata": {
    "colab": {
      "name": "ICA02_JIRONG_YI.ipynb",
      "version": "0.3.2",
      "provenance": [],
      "collapsed_sections": []
    },
    "kernelspec": {
      "name": "python3",
      "display_name": "Python 3"
    }
  },
  "cells": [
    {
      "cell_type": "markdown",
      "metadata": {
        "id": "wpuEzhLdK-76",
        "colab_type": "text"
      },
      "source": [
        "# ICA02_JIRONG_YI.ipynb\n",
        "\n",
        "This file gives demonstration of usages of pandas library.\n",
        "\n",
        "Created by JYI, 09/04/2019"
      ]
    },
    {
      "cell_type": "markdown",
      "metadata": {
        "id": "j5HGMrhwLTF_",
        "colab_type": "text"
      },
      "source": [
        "## 1 Access elements from Series and DataFrame\n",
        "Find top 10 career leaders in the following categories.\n",
        "\n",
        "1.1 Pitchers with the most wins (Hint: W column in Pitching.csv)\n",
        "\n",
        "1.2 Pitchers with the most strikeouts (Hint: SO column in Pitching.csv)\n",
        "\n",
        "1.3 Pitchers with the most saves (Hint: GS column in Pitching.csv)\n"
      ]
    },
    {
      "cell_type": "code",
      "metadata": {
        "id": "XrTkoImqK7At",
        "colab_type": "code",
        "outputId": "e037da05-37f2-4b8e-8f16-b79c91838d1e",
        "colab": {
          "base_uri": "https://localhost:8080/",
          "height": 791
        }
      },
      "source": [
        "import pandas as pd\n",
        "# DataPitch = pd.read_csv('https://github.com/chadwickbureau/baseballdatabank/raw/master/core/Pitching.csv') # this is one way for loading data\n",
        "DataPitch = pd.read_csv('https://raw.githubusercontent.com/chadwickbureau/baseballdatabank/master/core/Pitching.csv')\n",
        "# DataPitch = pd.read_csv('https://github.com/chadwickbureau/baseballdatabank/blob/master/core/Pitching.csv') # this access a webpage rather than dataset\n",
        "# IdsPitch = DataPitch['playerID'].unique()\n",
        "# print(f'IdsPitch: {IdsPitch}')\n",
        "\n",
        "print(f'Headers of Pitching.csv are \\n {DataPitch.head(0)}')\n",
        "# print(f'First 5 samples of Pitching.csv are \\n {DataPitch.head(5)}')\n",
        "# print(f'Shape of Pitching.csv: \\n {DataPitch.shape}')\n",
        "# print(f'Number of players in Pitching.csv (unique):\\n {len(IdsPitch)}')\n",
        "\n",
        "DataPitchGp = DataPitch.groupby('playerID') # this grouped data does not remove the duplicated copies\n",
        "DataPitchGpSum = DataPitchGp.agg('sum') # this grouped data sums up the duplicated row copies (duplicated playerID)\n",
        "# print(f'DataPitchGpSum header: {DataPitchGpSum['playerID']}')\n",
        "# print(f'Type(DataPitchGpSum) {type(DataPitchGpSum)}') # still a DataFrame\n",
        "# print(f'DataPitchGpSum: \\n {DataPitchGpSum.head(5)}')\n",
        "# print(f'First 5 samples of Pitching.csv (grouped) are \\n {DataPitchGpSum.head(5)}')\n",
        "# print(f'len(DataPitchGp): \\n {len(DataPitchGp)}')\n",
        "\n",
        "DataPitchGpSumW = DataPitchGpSum.nlargest(10,'W')['W']\n",
        "print(f'Top 10 pitchers with most wins: \\n{DataPitchGpSumW}')\n",
        "\n",
        "DataPitchGpSumSo = DataPitchGpSum.nlargest(10,'SO')['SO']\n",
        "print(f'Top 10 pitchers with most strikeouts: \\n {DataPitchGpSumSo}')\n",
        "\n",
        "DataPitchGpSumGs = DataPitchGpSum.nlargest(10,'GS')['GS']\n",
        "print(f'Top 10 pitchers with most saves: \\n {DataPitchGpSumGs}')\n",
        "\n",
        "# DataPitchM = DataPitchGp[['playerID','SO']]\n",
        "# print(f'DataPitchM: \\n{DataPitchM}')\n",
        "\n"
      ],
      "execution_count": 119,
      "outputs": [
        {
          "output_type": "stream",
          "text": [
            "Headers of Pitching.csv are \n",
            " Empty DataFrame\n",
            "Columns: [playerID, yearID, stint, teamID, lgID, W, L, G, GS, CG, SHO, SV, IPouts, H, ER, HR, BB, SO, BAOpp, ERA, IBB, WP, HBP, BK, BFP, GF, R, SH, SF, GIDP]\n",
            "Index: []\n",
            "Top 10 pitchers with most wins: \n",
            "playerID\n",
            "youngcy01    511\n",
            "johnswa01    417\n",
            "alexape01    373\n",
            "mathech01    373\n",
            "galvipu01    365\n",
            "spahnwa01    363\n",
            "nichoki01    362\n",
            "maddugr01    355\n",
            "clemero02    354\n",
            "keefeti01    342\n",
            "Name: W, dtype: int64\n",
            "Top 10 pitchers with most strikeouts: \n",
            " playerID\n",
            "ryanno01     5714\n",
            "johnsra05    4875\n",
            "clemero02    4672\n",
            "carltst01    4136\n",
            "blylebe01    3701\n",
            "seaveto01    3640\n",
            "suttodo01    3574\n",
            "perryga01    3534\n",
            "johnswa01    3509\n",
            "maddugr01    3371\n",
            "Name: SO, dtype: int64\n",
            "Top 10 pitchers with most saves: \n",
            " playerID\n",
            "youngcy01    815\n",
            "ryanno01     773\n",
            "suttodo01    756\n",
            "maddugr01    740\n",
            "niekrph01    716\n",
            "carltst01    709\n",
            "clemero02    707\n",
            "johnto01     700\n",
            "perryga01    690\n",
            "galvipu01    688\n",
            "Name: GS, dtype: int64\n"
          ],
          "name": "stdout"
        }
      ]
    },
    {
      "cell_type": "markdown",
      "metadata": {
        "id": "03ODIWsIYW9m",
        "colab_type": "text"
      },
      "source": [
        "## 2 Access elements from Series and DataFrame (II)\n",
        "\n",
        "Find top 10 career leaders in the following categories.\n",
        "\n",
        "2.1 Hitters with the highest batting average (Hint: RBI column in Batting.csv)\n",
        "\n",
        "2.2 Hitters with the most home runs (Hint: HR column in Batting.csv)\n",
        "\n",
        "2.3 Hitters with the most hits (Hint: H column in Batting.csv)\n"
      ]
    },
    {
      "cell_type": "code",
      "metadata": {
        "id": "Q__gMSG7YWNu",
        "colab_type": "code",
        "colab": {
          "base_uri": "https://localhost:8080/",
          "height": 1000
        },
        "outputId": "9a598727-e361-495a-bf87-897d9e805f84"
      },
      "source": [
        "import pandas as pd\n",
        "DataBatt = pd.read_csv('https://github.com/chadwickbureau/baseballdatabank/raw/master/core/Batting.csv')\n",
        "IdsBatt = DataBatt['playerID'].unique()\n",
        "print(f'Headers of batting.csv are : \\n {DataBatt.head(0)}')\n",
        "print('First 5 samples are \\n {}'.format(DataBatt.head(5)))\n",
        "print(f'Shape of batting.csv: {DataBatt.shape}\\n')\n",
        "print(f'Number of players in batting.csv (unique): {len(IdsBatt)}\\n')\n",
        "\n",
        "DataBattGpSum = DataBatt.groupby('playerID').agg('sum')\n",
        "print(f'len(DataBattGpSum): {len(DataBattGpSum)}')\n",
        "DataBattGpSumRbi = DataBattGpSum.nlargest(10,'RBI')['RBI']\n",
        "print(f'Top 10 hitters with highest batting average: \\n{DataBattGpSumRbi}')\n",
        "\n",
        "DataBattGpSumHr = DataBattGpSum.nlargest(10,'HR')['HR']\n",
        "print(f'Top 10 hitters with most home runs: \\n{DataBattGpSumHr}')\n",
        "\n",
        "DataBattGpSumH = DataBattGpSum.nlargest(10,'H')['H']\n",
        "print(f'Top 10 hitters with most hits: \\n{DataBattGpSumH}')\n",
        "\n",
        "# print(DataBattGpSum[['RBI','HR','H']])\n",
        "\n"
      ],
      "execution_count": 120,
      "outputs": [
        {
          "output_type": "stream",
          "text": [
            "Headers of batting.csv are : \n",
            " Empty DataFrame\n",
            "Columns: [playerID, yearID, stint, teamID, lgID, G, AB, R, H, 2B, 3B, HR, RBI, SB, CS, BB, SO, IBB, HBP, SH, SF, GIDP]\n",
            "Index: []\n",
            "First 5 samples are \n",
            "     playerID  yearID  stint teamID lgID   G  ...   SO  IBB  HBP  SH  SF  GIDP\n",
            "0  abercda01    1871      1    TRO  NaN   1  ...  0.0  NaN  NaN NaN NaN   0.0\n",
            "1   addybo01    1871      1    RC1  NaN  25  ...  0.0  NaN  NaN NaN NaN   0.0\n",
            "2  allisar01    1871      1    CL1  NaN  29  ...  5.0  NaN  NaN NaN NaN   1.0\n",
            "3  allisdo01    1871      1    WS3  NaN  27  ...  2.0  NaN  NaN NaN NaN   0.0\n",
            "4  ansonca01    1871      1    RC1  NaN  25  ...  1.0  NaN  NaN NaN NaN   0.0\n",
            "\n",
            "[5 rows x 22 columns]\n",
            "Shape of batting.csv: (105861, 22)\n",
            "\n",
            "Number of players in batting.csv (unique): 19428\n",
            "\n",
            "len(DataBattGpSum): 19428\n",
            "Top 10 hitters with highest batting average: \n",
            "playerID\n",
            "aaronha01    2297.0\n",
            "ruthba01     2217.0\n",
            "rodrial01    2086.0\n",
            "ansonca01    2075.0\n",
            "bondsba01    1996.0\n",
            "gehrilo01    1995.0\n",
            "pujolal01    1982.0\n",
            "musiast01    1951.0\n",
            "cobbty01     1944.0\n",
            "foxxji01     1922.0\n",
            "Name: RBI, dtype: float64\n",
            "Top 10 hitters with most home runs: \n",
            "playerID\n",
            "bondsba01    762\n",
            "aaronha01    755\n",
            "ruthba01     714\n",
            "rodrial01    696\n",
            "mayswi01     660\n",
            "pujolal01    633\n",
            "griffke02    630\n",
            "thomeji01    612\n",
            "sosasa01     609\n",
            "robinfr02    586\n",
            "Name: HR, dtype: int64\n",
            "Top 10 hitters with most hits: \n",
            "playerID\n",
            "rosepe01     4256\n",
            "cobbty01     4189\n",
            "aaronha01    3771\n",
            "musiast01    3630\n",
            "speaktr01    3514\n",
            "jeterde01    3465\n",
            "ansonca01    3435\n",
            "wagneho01    3420\n",
            "yastrca01    3419\n",
            "molitpa01    3319\n",
            "Name: H, dtype: int64\n"
          ],
          "name": "stdout"
        }
      ]
    },
    {
      "cell_type": "markdown",
      "metadata": {
        "id": "STFbXwfeeIpI",
        "colab_type": "text"
      },
      "source": [
        "## 3 Statistics computation of Series and DataFrame via merging multiple datasets\n",
        "Compute the average and standard deviation of strikeouts of pitchers that are...\n",
        "\n",
        "3.1 above 90-th percentile in height (the tallest 10% among all)\n",
        "\n",
        "3.2 below 10-th percentile in height (the shortest 10%)\n",
        "\n",
        "3.3 above 90-th percentile in weight (the heaviest 10%)\n",
        "\n",
        "3.4 below 10-th percentile in weight (the lightest 10%)\n"
      ]
    },
    {
      "cell_type": "code",
      "metadata": {
        "id": "0RbfrNGNeWom",
        "colab_type": "code",
        "colab": {}
      },
      "source": [
        "import pandas as pd\n",
        "import numpy as np\n",
        "np.set_printoptions(threshold=np.inf)\n",
        "\n",
        "DataPp = pd.read_csv('https://github.com/chadwickbureau/baseballdatabank/raw/master/core/People.csv')\n",
        "IdsPp = DataPp['playerID'].unique() # 19863 samples (unique)\n",
        "# print(f'Headers of people.csv: \\n {DataPp.head(0)}') # no duplication of rows\n",
        "# print(f'First 5 samples of people.csv: \\n {DataPp.head(5)}')\n",
        "# print(f'Shape of people.csv: {DataPp.shape}\\n')\n",
        "# print(f'Number of players in people.csv: {len(IdsPp)}\\n')\n",
        "\n",
        "# DataPpPitch = pd.merge(left=DataPp[['playerID','weight','height']],right=DataPitch[['playerID','SO']],on='playerID')\n",
        "# print(f'DataPpPitch: \\n{DataPpPitch}')\n",
        "\n",
        "DataPpH = DataPp['height']\n",
        "DataPpW = DataPp['weight']\n",
        "\n",
        "# print('DataPpH sorted:\\n {}'.format(DataPpH.sort_values(ascending=False))) 83-45\n",
        "# print(f'len(DataPpH):\\n {len(DataPpH)}')\n",
        "# print(f'DataPpH: \\n {DataPpH}')\n",
        "# print(DataPpH.dtypes)\n",
        "# HNanNum = DataPpH.isna().sum() # 793 NaNs\n",
        "# print(f'# of NaNs: {HNanNum}')\n",
        "\n",
        "DataPpH90Ind = DataPpH.quantile(0.9)\n",
        "DataPpH90 = DataPp[DataPpH > DataPpH90Ind]\n",
        "print('DataPpH90Ind: {}\\n'.format(DataPpH90Ind)) # 76\n",
        "# print(f'DataPpH90: \\n{len(DataPpH90)}') # 944\n",
        "DataPpPitchM90 = pd.merge(left=DataPpH90[['playerID','height']], right=DataPitch[['playerID','SO']], on='playerID')\n",
        "# print(f'DataPpPitchM90: \\n{DataPpPitchM90}')\n",
        "DataPpPitchM90GpSum = DataPpPitchM90.groupby('playerID').agg('sum')\n",
        "print(f'Statistics of strikeouts of pitchers that are above 90-th percentile in height are: \\n {DataPpPitchM90GpSum.describe(percentiles=[0.1,0.3,0.5,0.7,0.9,0.95, 0.96, 0.97, 0.98, 0.99])}')\n",
        "\n",
        "DataPpH10Ind = DataPpH.quantile(0.1)\n",
        "DataPpH10 = DataPp[DataPpH < DataPpH10Ind]\n",
        "print(f'DataPpH10Ind: {DataPpH10Ind}\\n')\n",
        "DataPpPitchM10 = pd.merge(left=DataPpH10[['playerID','height']], right=DataPitch[['playerID','SO']], on='playerID')\n",
        "DataPpPitchM10GpSum = DataPpPitchM10.groupby('playerID').agg('sum')\n",
        "print(f'Statistics of strikeouts of pitchers that are below 10-th percentile in height are: \\n {DataPpPitchM10GpSum.describe(percentiles=[0.1,0.3,0.5,0.7,0.9,0.95, 0.96, 0.97, 0.98, 0.99])}')\n",
        "\n",
        "DataPpW90Ind = DataPpW.quantile(0.9)\n",
        "DataPpW90 = DataPp[DataPpW > DataPpW90Ind]\n",
        "print(f'DataPpW90Ind: {DataPpW90Ind}\\n')\n",
        "DataPpPitchM90 = pd.merge(left=DataPpW90[['playerID','weight']], right=DataPitch[['playerID','SO']], on='playerID')\n",
        "DataPpPitchM90GpSum = DataPpPitchM90.groupby('playerID').agg('sum')\n",
        "print(f'Statistics of strikeouts of pitchers that are above 90-th percentile in weight are: \\n {DataPpPitchM90GpSum.describe(percentiles=[0.1,0.3,0.5,0.7,0.9,0.95, 0.96, 0.97, 0.98, 0.99])}')\n",
        "\n",
        "DataPpW10Ind = DataPpW.quantile(0.1)\n",
        "DataPpW10 = DataPp[DataPpW < DataPpW10Ind]\n",
        "print(f'DataPpW10Ind: {DataPpW10Ind}\\n')\n",
        "DataPpPitchM10 = pd.merge(left=DataPpW10[['playerID','weight']], right=DataPitch[['playerID','SO']], on='playerID')\n",
        "DataPpPitchM10GpSum = DataPpPitchM10.groupby('playerID').agg('sum')\n",
        "print(f'Statistics of strikeouts of pitchers that are below 10-th percentile in weight are: \\n {DataPpPitchM10GpSum.describe(percentiles=[0.1,0.3,0.5,0.7,0.9,0.95, 0.96, 0.97, 0.98, 0.99])}')\n",
        "\n",
        "# DataPpWeight = DataPp['weight']\n",
        "\n",
        "# print(f'Weight in people.csv:\\n {DataPpWeight}')\n",
        "# print(f'Height in people.csv:\\n {DataPpHeight}')\n",
        "\n"
      ],
      "execution_count": 0,
      "outputs": []
    },
    {
      "cell_type": "markdown",
      "metadata": {
        "id": "NUeOXvNFrppv",
        "colab_type": "text"
      },
      "source": [
        "## 4 Statistics computation of Series and DataFrame via merging multiple datasets (II)\n",
        "Compute the average and standard deviation of home runs of hitters that are...\n",
        "\n",
        "above 90-th percentile in height (the tallest 10% among all)\n",
        "\n",
        "below 10-th percentile in height (the shortest 10%)\n",
        "\n",
        "above 90-th percentile in weight (the heaviest 10%)\n",
        "\n",
        "below 10-th percentile in weight (the lightest 10%)"
      ]
    },
    {
      "cell_type": "code",
      "metadata": {
        "id": "hozYjkx6VHKI",
        "colab_type": "code",
        "colab": {}
      },
      "source": [
        "import pandas as pd\n",
        "import numpy as np\n",
        "\n",
        "DataPpBattM90 = pd.merge(left=DataPpH90[['playerID','height']], right=DataBatt[['playerID','HR']], on='playerID')\n",
        "# print(f'DataPpPitchM90: \\n{DataPpPitchM90}')\n",
        "DataPpBattM90GpSum = DataPpBattM90.groupby('playerID').agg('sum')\n",
        "print(f'Statistics of home runs of hitters that are above 90-th percentile in height are: \\n {DataPpBattM90GpSum.describe(percentiles=[0.1,0.3,0.5,0.7,0.9,0.95, 0.96, 0.97, 0.98, 0.99])}')\n",
        "\n",
        "DataPpBattM10 = pd.merge(left=DataPpH10[['playerID','height']], right=DataBatt[['playerID','HR']], on='playerID')\n",
        "DataPpBattM10GpSum = DataPpBattM10.groupby('playerID').agg('sum')\n",
        "print(f'Statistics of home runs of hitters that are below 10-th percentile in height are: \\n {DataPpBattM10GpSum.describe(percentiles=[0.1,0.3,0.5,0.7,0.9,0.95, 0.96, 0.97, 0.98, 0.99])}')\n",
        "\n",
        "DataPpBattM90 = pd.merge(left=DataPpW90[['playerID','weight']], right=DataBatt[['playerID','HR']], on='playerID')\n",
        "DataPpBattM90GpSum = DataPpBattM90.groupby('playerID').agg('sum')\n",
        "print(f'Statistics of home runs of hitters that are above 90-th percentile in weight are: \\n {DataPpBattM90GpSum.describe(percentiles=[0.1,0.3,0.5,0.7,0.9,0.95, 0.96, 0.97, 0.98, 0.99])}')\n",
        "\n",
        "DataPpBattM10 = pd.merge(left=DataPpW10[['playerID','weight']], right=DataBatt[['playerID','HR']], on='playerID')\n",
        "DataPpBattM10GpSum = DataPpBattM10.groupby('playerID').agg('sum')\n",
        "print(f'Statistics of home runs of pitchers that are below 10-th percentile in weight are: \\n {DataPpBattM10GpSum.describe(percentiles=[0.1,0.3,0.5,0.7,0.9,0.95, 0.96, 0.97, 0.98, 0.99])}')"
      ],
      "execution_count": 0,
      "outputs": []
    },
    {
      "cell_type": "markdown",
      "metadata": {
        "id": "E1zknHsguMJR",
        "colab_type": "text"
      },
      "source": [
        "## 5 Statistics computation of Series and DataFrame via merging multiple datasets (III)\n",
        "Find the top 5 most popular first names among highest-performing pitchers. Note this is an open-ended problem. You should decide how to evaluate 'performance' of pitchers and above what threshold is the 'highest' performance. (Hint: nameFirst column in People.csv contains the first names of the players)"
      ]
    },
    {
      "cell_type": "code",
      "metadata": {
        "id": "ZtCveVKZu9Dq",
        "colab_type": "code",
        "colab": {
          "base_uri": "https://localhost:8080/",
          "height": 593
        },
        "outputId": "5f129cd5-11d1-4811-b7d7-15a2ab338d05"
      },
      "source": [
        "# Here, we use the number of strikeouts as the only criterion for determining the performance of a pitcher\n",
        "# Only the pitchers with strikeouts above 90-th percentile will be regarded as highest-performing pitchers\n",
        "\n",
        "import numpy as np\n",
        "\n",
        "# DataPitch = pd.read_csv('https://raw.githubusercontent.com/chadwickbureau/baseballdatabank/master/core/Pitching.csv')\n",
        "# DataPp = pd.read_csv('https://github.com/chadwickbureau/baseballdatabank/raw/master/core/People.csv')\n",
        "\n",
        "print(f'Headers of DataPp: \\n{DataPp.head(0)}')\n",
        "print(f'Headers of DataPitch: \\n{DataPitch.head(0)}')\n",
        "\n",
        "# DataPitchUni = DataPitch.drop_duplicates(subset='playerID', keep='first', inplace=True)\n",
        "# DataPitchGpSumX = DataPitch.groupby('playerID', as_index=False).agg({'SO':'sum'})\n",
        "# print(f'DataPitchGpSumX: {DataPitchGpSumX}')\n",
        "# print(f\"DataPitchGpSumX['SO']: {DataPitchGpSumX['SO']}\")\n",
        "# print(f\"DataPitchGpSum['SO']: {DataPitchGpSum['SO']}\")\n",
        "\n",
        "DataPitchGp = DataPitch.groupby('playerID')\n",
        "DataPitchGpSum = DataPitchGp.agg('sum') # this grouped data does not remove the duplicated copies\n",
        "# DataPitchGpSumW = DataPitchGpSum.nlargest(10,'W')['W']\n",
        "# print(f\"DataPitchGpSum top 10: \\n{DataPitchGpSumW}\")\n",
        "DataPitchGpSum['playerID'] = DataPitchGpSum.index\n",
        "DataPitchGpSum.index = np.arange(0,len(DataPitchGpSum))\n",
        "# print(f'DataPitchGpSum: \\n{DataPitchGpSum}')\n",
        "PitchSoPct = DataPitchGpSum['SO'].quantile([0.1,0.3,0.5,0.7,0.9,0.95,0.96,0.97,0.98])\n",
        "print(f'Strikeout percentiles in DataPitchGpSum: {PitchSoPct}')\n",
        "SO90Ind = DataPitchGpSum['SO'].quantile(0.9)\n",
        "print(f'SO90Ind: {SO90Ind}\\n')\n",
        "SO90 = DataPitchGpSum[DataPitchGpSum['SO'] > SO90Ind]\n",
        "DataPpPitchM90 = pd.merge(left=DataPp[['playerID','nameFirst']], right=SO90[['playerID','SO']], on='playerID')\n",
        "# print(f'DataPpPitchM90: \\n{DataPpPitchM90}')\n",
        "# SO90 = DataPitchGpSumX[DataPitchGpSumX['SO'] > SO90Ind]\n",
        "# print(f'SO90: \\n{SO90[1]}')\n",
        "# print(f'type(SO90): {type(SO90)}')\n",
        "# print(f'DataPitchGp.groups.keys(): {DataPitchGp.groups.keys()}')\n",
        "\n",
        "# SO = DataPitchGpSum['SO']\n",
        "# print(f'SO percentiles: \\n {SO.describe(percentiles=[0.1,0.3,0.5,0.7,0.9,0.95,0.96,0.97,0.98])}')\n",
        "# DataPitchGp = DataPitch.groupby('playerID') # this grouped data does not remove the duplicated copies\n",
        "# DataPitchGpSum = DataPitchGp.agg('sum') # this grouped data sums up the duplicated row copies (duplicated playerID)\n",
        "# print(f'DataPitchGpSum header: {DataPitchGpSum['playerID']}')\n",
        "# print(f'Type(DataPitchGpSum) {type(DataPitchGpSum)}') # still a DataFrame\n",
        "# print(f'DataPitchGpSum: \\n {DataPitchGpSum.head(5)}')\n",
        "# print(f'First 5 samples of Pitching.csv (grouped) are \\n {DataPitchGpSum.head(5)}')\n",
        "# print(f'len(DataPitchGp): \\n {len(DataPitchGp)}')\n",
        "\n",
        "DataPpPitchM90Fre = DataPpPitchM90.nameFirst.value_counts()\n",
        "print(f'Top 10 most popular first names among highest-performing pitchers (DataPpPitchM90Fre[0:10]): \\n{DataPpPitchM90Fre[0:10]}')\n",
        "\n"
      ],
      "execution_count": 134,
      "outputs": [
        {
          "output_type": "stream",
          "text": [
            "Headers of DataPp: \n",
            "Empty DataFrame\n",
            "Columns: [playerID, birthYear, birthMonth, birthDay, birthCountry, birthState, birthCity, deathYear, deathMonth, deathDay, deathCountry, deathState, deathCity, nameFirst, nameLast, nameGiven, weight, height, bats, throws, debut, finalGame, retroID, bbrefID]\n",
            "Index: []\n",
            "Headers of DataPitch: \n",
            "Empty DataFrame\n",
            "Columns: [playerID, yearID, stint, teamID, lgID, W, L, G, GS, CG, SHO, SV, IPouts, H, ER, HR, BB, SO, BAOpp, ERA, IBB, WP, HBP, BK, BFP, GF, R, SH, SF, GIDP]\n",
            "Index: []\n",
            "Strikeout percentiles in DataPitchGpSum: 0.10       1.00\n",
            "0.30      11.00\n",
            "0.50      50.00\n",
            "0.70     188.00\n",
            "0.90     682.60\n",
            "0.95    1038.00\n",
            "0.96    1145.84\n",
            "0.97    1310.00\n",
            "0.98    1553.00\n",
            "Name: SO, dtype: float64\n",
            "SO90Ind: 682.6000000000004\n",
            "\n",
            "Top 10 most popular first names among highest-performing pitchers (DataPpPitchM90Fre[0:10]): \n",
            "Bob     27\n",
            "Jim     26\n",
            "Mike    25\n",
            "Bill    17\n",
            "Tom     16\n",
            "John    16\n",
            "Dave    15\n",
            "Mark    14\n",
            "Jeff    12\n",
            "Jack    12\n",
            "Name: nameFirst, dtype: int64\n"
          ],
          "name": "stdout"
        }
      ]
    },
    {
      "cell_type": "markdown",
      "metadata": {
        "id": "nVShiFE_53Jd",
        "colab_type": "text"
      },
      "source": [
        "## 6 Statistics computation of Series and DataFrame via merging multiple datasets (IV)\n",
        "\n",
        "From one of the career leader boards, compute which states have produced the greatest MLB players in history. Again, it is an open-ended problem. There can be multiple ways to solve this problem."
      ]
    },
    {
      "cell_type": "code",
      "metadata": {
        "id": "RxcsEiQgcFiJ",
        "colab_type": "code",
        "colab": {}
      },
      "source": [
        "# This is basically the same as previous questions, we omit it here."
      ],
      "execution_count": 0,
      "outputs": []
    },
    {
      "cell_type": "markdown",
      "metadata": {
        "id": "Mm9V7-yWONNb",
        "colab_type": "text"
      },
      "source": [
        "## Appendix\n",
        "\n",
        "Deleted code trunks"
      ]
    },
    {
      "cell_type": "code",
      "metadata": {
        "id": "JKgX-Y4ROJvE",
        "colab_type": "code",
        "colab": {}
      },
      "source": [
        "# NumMostWin = DataPitch['W'].max() # DataPitch['W'].max is a method, DataPitch['W'].max() is an integer\n",
        "# # print(f'type {type(NumMostWin)}')\n",
        "# # print(NumMostWin)\n",
        "# IdsMostWin = DataPitch['playerID'][DataPitch['W'] == NumMostWin]\n",
        "# InfoMostWin = DataPitch[DataPitch['playerID'] == IdsMostWin.values[0]]\n",
        "# # print('Type of InfoMostWin {}'.format(type(InfoMostWin)))\n",
        "# print(f'Pitchers with most wins are: {IdsMostWin.values}, the number of wins is {NumMostWin}\\n')\n",
        "# print('More info of pitchers with most wins: \\n {}'.format(InfoMostWin[['playerID','W']]))\n",
        "\n",
        "# # print(f'Type of IdsMostWin: {type(IdsMostWin)}')\n",
        "# # print(f'IdsMostWin[0] {IdsMostWin['playerID']}')\n",
        "# # print(f'IdsMostWin.values: {IdsMostWin.values}')\n",
        "\n",
        "# NumMostSo = DataPitch['SO'].max()\n",
        "# IdsMostSo = DataPitch['playerID'][DataPitch['SO'] == NumMostSo]\n",
        "# InfoMostSo = DataPitch[DataPitch['playerID'] == IdsMostSo.values[0]]\n",
        "# print(f'Pitchers with most strikeouts: {IdsMostSo.values}, the number of strikeouts is {NumMostSo}\\n')\n",
        "# print('More info of pitchers with most strikeouts: \\n {}'.format(InfoMostSo[['playerID','SO']]))\n",
        "\n",
        "# NumMostSaves = DataPitch['GS'].max()\n",
        "# IdsMostSaves = DataPitch['playerID'][DataPitch['GS'] == NumMostSaves]\n",
        "# InfoMostSaves = DataPitch[DataPitch['playerID'] == IdsMostSaves.values[0]]\n",
        "# print(f'Pitchers with most saves: {IdsMostSaves.values}, the number of saves is {NumMostSaves}\\n')\n",
        "# print('More info of pitchers with most saves: \\n {}'.format(InfoMostSaves[['playerID','GS']]))\n",
        "\n",
        "\n",
        "# NumMostAv = DataBatt['RBI'].max()\n",
        "# IdsMostAv = DataBatt['playerID'][DataBatt['RBI'] == NumMostAv]\n",
        "# InfoMostAv = DataBatt[DataBatt['playerID'] == IdsMostAv.values[0]]\n",
        "# print(f'Hitters with highest average: {IdsMostAv.values[0]}, the value of average is: {NumMostAv}\\n')\n",
        "# print('More Info of hitters with highest average: \\n {}'.format(InfoMostAv[['playerID','RBI']]))\n",
        "\n",
        "# NumMostHrs = DataBatt['HR'].max()\n",
        "# IdsMostHrs = DataBatt['playerID'][DataBatt['HR'] == NumMostHrs]\n",
        "# InfoMostHrs = DataBatt[DataBatt['playerID'] == IdsMostHrs.values[0]]\n",
        "# print(f'Hitters with most home runs: {IdsMostHrs.values[0]}, the number of home runs is: {NumMostHrs}\\n')\n",
        "# print('More info of hitters with most home runs: \\n {}'.format(InfoMostHrs[['playerID','HR']]))\n",
        "\n",
        "# NumMostHits = DataBatt['H'].max()\n",
        "# IdsMostHits = DataBatt['playerID'][DataBatt['H'] == NumMostHits]\n",
        "# InfoMostHits = DataBatt[DataBatt['playerID'] == IdsMostHits.values[0]]\n",
        "# print(f'Hitters with most hits: {IdsMostHits.values[0]}, the number of hits is: {NumMostHits}\\n')\n",
        "# print('More info of hitters with most hits: \\n {}'.format(InfoMostHits[['playerID','H']]))"
      ],
      "execution_count": 0,
      "outputs": []
    }
  ]
}